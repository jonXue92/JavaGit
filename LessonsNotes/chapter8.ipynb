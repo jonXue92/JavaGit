{
 "cells": [
  {
   "cell_type": "markdown",
   "metadata": {},
   "source": [
    "**Exception类继承了Throwable**\n",
    "\n",
    "**两种构造方式**\n",
    "\n",
    "**throw new Exception**\n",
    "\n",
    "**throw new Exception(\"HELP\")**"
   ]
  },
  {
   "cell_type": "markdown",
   "metadata": {},
   "source": [
    "***抛出子类异常会被捕捉父类异常的cathc给捉到***"
   ]
  },
  {
   "cell_type": "markdown",
   "metadata": {},
   "source": [
    "***当 覆盖 一个函数的时候，子类不能声明抛出比父类的版本更多的异常，可以没有异常***\n",
    "\n",
    "***在子类的构造函数中，必须声明父类可能抛出的全部异常，可以增加新的异常***\n",
    "\n",
    "**成员函数不能增加更多的异常，而作为构造函数可以：把子类的对象当作父类对象来看待，如果通过父类的变量调用子类的函数，就只能处理父类包含的异常，子类《=父类；但是构造过程当中会自动调用父类的构造函数，所有父类构造函数异常必须声明，子类》=父类**\n",
    "\n",
    "***构造器中声明异常不是一个好事情***"
   ]
  },
  {
   "cell_type": "markdown",
   "metadata": {},
   "source": [
    "**流是一维单向的**"
   ]
  },
  {
   "cell_type": "markdown",
   "metadata": {},
   "source": [
    "System.out.println(\"\");\n",
    "\n",
    "**System:类；out:类中的静态成员，做输出的流；println:成员可以实现的方法**\n",
    "\n",
    "**流的基础类**\n",
    "\n",
    "**输入：InputStream**\n",
    "\n",
    "**输出：OutputStream**"
   ]
  },
  {
   "cell_type": "markdown",
   "metadata": {},
   "source": [
    "***更常用的是以内存数据或通信数据上建立的流，如数据库的二进制数据读写或网络端口通信***"
   ]
  },
  {
   "cell_type": "markdown",
   "metadata": {},
   "source": [
    "***流过滤器：以一个介质流对象为基础层层构建过滤器流，最终形成的流对象能在数据的输入输出过程中，逐层使用过滤器流的方法来读写数据***"
   ]
  },
  {
   "cell_type": "markdown",
   "metadata": {},
   "source": [
    "***DataOutputStream 是以二进制的形式把基本数据类型的数据在内存中的二进制原封不动的写到文件里***"
   ]
  },
  {
   "cell_type": "markdown",
   "metadata": {},
   "source": [
    "**Reader/Writter:文本数据**\n",
    "\n",
    "**InputStream/OutputStream:二进制数据**"
   ]
  },
  {
   "cell_type": "markdown",
   "metadata": {},
   "source": [
    "***阻塞/非阻塞***\n",
    "\n",
    "**read()函数是阻塞的，在读到所需的内容之前会停下来等**\n",
    "\n",
    "**使用read()的更高级函数，如nextInt()、readLine()都是这样的**\n",
    "\n",
    "***所以常用单独的线程来做socket读的等待，或使用nio的channel选择机制***\n",
    "\n",
    "***对于socker,可以设置SO时间***\n",
    "\n",
    "***setSoTimeout(int timeOut)***"
   ]
  },
  {
   "cell_type": "markdown",
   "metadata": {},
   "source": [
    "***对象串行化***\n",
    "\n",
    "**ObjectInputStream类:readObject**\n",
    "\n",
    "**ObjectOutputStream类:writeObject**\n",
    "\n",
    "***Serializable接口***"
   ]
  }
 ],
 "metadata": {
  "kernelspec": {
   "display_name": "Python 3",
   "language": "python",
   "name": "python3"
  },
  "language_info": {
   "codemirror_mode": {
    "name": "ipython",
    "version": 3
   },
   "file_extension": ".py",
   "mimetype": "text/x-python",
   "name": "python",
   "nbconvert_exporter": "python",
   "pygments_lexer": "ipython3",
   "version": "3.6.5"
  },
  "toc": {
   "base_numbering": 1,
   "nav_menu": {},
   "number_sections": true,
   "sideBar": true,
   "skip_h1_title": false,
   "title_cell": "Table of Contents",
   "title_sidebar": "Contents",
   "toc_cell": false,
   "toc_position": {},
   "toc_section_display": true,
   "toc_window_display": false
  }
 },
 "nbformat": 4,
 "nbformat_minor": 2
}
