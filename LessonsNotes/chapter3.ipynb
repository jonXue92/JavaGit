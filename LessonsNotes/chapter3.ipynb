{
 "cells": [
  {
   "cell_type": "markdown",
   "metadata": {},
   "source": [
    "容器是现代程序设计非常基础而重要的手段。\n",
    "\n",
    "所谓容器，就是“放东西的东西”。数组可以看作是一种容器，但是数组的元素个数一旦确定就无法改变，这在实际使用中是很大的不足。一般意义上的容器，是指具有自动增长容量能力的存放数据的一种数据结构。在面向对象语言中，这种数据结构本身表达为一个对象。所以才有“放东西的东西”的说法。\n",
    "\n",
    "Java具有丰富的容器，Java的容器具有丰富的功能和良好的性能。熟悉并能充分有效地利用好容器，是现代程序设计的基本能力。\n",
    "\n",
    "我们首先学习的是顺序容器，即放进容器中的对象是按照指定的顺序（放的顺序）排列起来的，而且允许具有相同值的多个对象存在。\n",
    "\n",
    "在一些书中，将容器（英文为collection或container）翻译为“集合”，由于数学中的集合（Set）也是一种特定的容器类型，我们认为将collection翻译为集合是不恰当的。所以我们只会使用容器一词。"
   ]
  },
  {
   "cell_type": "markdown",
   "metadata": {},
   "source": [
    "**ArrayList范型类**"
   ]
  },
  {
   "cell_type": "markdown",
   "metadata": {},
   "source": [
    "**Java中的String对象是不可变对象，举个例子 String str=“你”； str=“我”； 表面上看是改变了str的值，实际上是str变量指向的内存地址改变了，这是创建一个新对象并把内存地址赋给str。**"
   ]
  },
  {
   "cell_type": "markdown",
   "metadata": {},
   "source": [
    "***当数组的元素的类型是类的时候，数组的每一个元素其实只是对象的管理者而不是对象本身。因此，仅仅创建数组并没有创建其中的每一个对象！***"
   ]
  },
  {
   "cell_type": "markdown",
   "metadata": {},
   "source": [
    "***任意数量参数的方法***\n",
    "\n",
    "`public static void print(String...args) {\n",
    "\t\tfor(int i = 0; i < args.length; i++) {\n",
    "\t\t\tSystem.out.println(args[i]);\n",
    "\t\t}\n",
    "\t}\n",
    "\tpublic static int Sum(int...values) {\n",
    "        int sum = 0;\n",
    "        for (int i : values) {\n",
    "            sum += i;\n",
    "        }\n",
    "        return sum;\n",
    "    }\n",
    "\tpublic static double max(double... values) {\n",
    "\t    double max = Double.MIN_VALUE;\n",
    "\t    for (double v : values)\n",
    "\t        if (v > max)\n",
    "\t            max = v;\n",
    "\t    return max;\n",
    "\t}`"
   ]
  },
  {
   "cell_type": "markdown",
   "metadata": {},
   "source": [
    "打印\n",
    "\n",
    "`List<String> l = new ArrayList<>();\n",
    "System.out.println(l);\n",
    "Set<Integer> s = new HashSet<>();\n",
    "System.out.println(s);`"
   ]
  },
  {
   "cell_type": "markdown",
   "metadata": {},
   "source": [
    "***不能，因为集合容器中的元素不是一块连续的储存空间，在Debug窗口可以看到各个元素的Id是不连续而且无序的，因此无法用index去索引任何一个元素的地址。***"
   ]
  },
  {
   "cell_type": "markdown",
   "metadata": {},
   "source": [
    "传统意义上的Hash表，是能以int做值，将数据存放起来的数据结构。Java的Hash表可以以任何实现了hash()函数的类的对象做值来存放对象。\n",
    "\n",
    "Hash表是非常有用的数据结构，熟悉它，充分使用它，往往能起到事半功倍的效果。"
   ]
  },
  {
   "cell_type": "markdown",
   "metadata": {},
   "source": [
    "***如果要写程序表达一个班级的很多个学生的很多门课的成绩，应该如何表达这些数据？***\n",
    "\n",
    "***如果我们希望通过学生的姓名，可以找到他的所有的成绩，而每一门课的成绩，是由课程名称和分数构成的。***\n",
    "\n",
    "***而如果我们还希望这个程序能找出某一门课的全部学生的成绩应该怎样做呢？***\n",
    "\n",
    "***注意，并非所有的学生都参加了所有的课程。***"
   ]
  },
  {
   "cell_type": "markdown",
   "metadata": {},
   "source": [
    "***使用嵌套的hashmap：一开始把所以student输入到key，value放名为grades的hashmap，***\n",
    "\n",
    "***如果没有考试可以放事先约定好的一个数据（任意字符串或者数字表明没参加考试），然后grades的hashmap放入科目和成绩组成的键值对。***"
   ]
  }
 ],
 "metadata": {
  "kernelspec": {
   "display_name": "Python 3",
   "language": "python",
   "name": "python3"
  },
  "language_info": {
   "codemirror_mode": {
    "name": "ipython",
    "version": 3
   },
   "file_extension": ".py",
   "mimetype": "text/x-python",
   "name": "python",
   "nbconvert_exporter": "python",
   "pygments_lexer": "ipython3",
   "version": "3.6.5"
  },
  "toc": {
   "base_numbering": 1,
   "nav_menu": {},
   "number_sections": true,
   "sideBar": true,
   "skip_h1_title": false,
   "title_cell": "Table of Contents",
   "title_sidebar": "Contents",
   "toc_cell": false,
   "toc_position": {},
   "toc_section_display": true,
   "toc_window_display": false
  }
 },
 "nbformat": 4,
 "nbformat_minor": 2
}
