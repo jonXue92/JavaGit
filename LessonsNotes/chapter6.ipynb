{
 "cells": [
  {
   "cell_type": "markdown",
   "metadata": {},
   "source": [
    "在第一周就有一个Shape类的例子。这个类有很多的子类，每个子类也都实现了父类的方法。实际上父类Shape只是一个抽象的概念而并没有实际的意义。如果请你画一个圆，你知道该怎么画；如果请你画一个矩形，你也知道该怎么画。但是如果我说：“请画一个形状，句号”。你该怎么画？同样，我们可以定义Circle类和Rectangle类的draw()，但是Shape类的draw()呢？\n",
    "\n",
    "Shape类表达的是一种概念，一种共同属性的抽象集合，我们并不希望任何Shape类的对象会被创建出来。那么，我们就应该把这个Shape类定义为抽象的。我们**用abstract关键字来定义抽象类。抽象类的作用仅仅是表达接口，而不是具体的实现细节。抽象类中可以存在抽象方法。抽象方法也是使用abstract关键字来修饰。抽象的方法是不完全的，它只是一个方法签名而完全没有方法体**(***没有大括号)。***\n",
    "\n",
    "**如果一个类有了一个抽象的方法，这个类就必须声明为抽象类。如果父类是抽象类，那么子类必须覆盖所有在父类中的抽象方法，否则子类也成为一个抽象类。一个抽象类可以没有任何抽象方法，所有的方法都有方法体，但是整个类是抽象的。设计这样的抽象类主要是为了防止制造它的对象出来。**"
   ]
  },
  {
   "cell_type": "markdown",
   "metadata": {},
   "source": [
    "***抽象类不能够制造对象，但是可以定义变量，任何继承了抽象类的非抽象类的对象可以付给这个变量***"
   ]
  },
  {
   "cell_type": "markdown",
   "metadata": {},
   "source": [
    "***接口是纯抽象类***\n",
    "\n",
    "***所有的成员函数都是抽象函数,所以不用写成abstract***\n",
    "\n",
    "***所有的成员变量都是public static final***\n",
    "\n",
    "***接口规定了长什么样，但不管里面有什么***"
   ]
  },
  {
   "cell_type": "markdown",
   "metadata": {},
   "source": [
    "***类可以实现很多接口***\n",
    "\n",
    "***接口可以继承接口，但不能继承类***\n",
    "\n",
    "***接口不能实现接口***"
   ]
  },
  {
   "cell_type": "markdown",
   "metadata": {},
   "source": [
    "***任何在函数之间传入传出的一定是接口，而不是具体的类***"
   ]
  },
  {
   "cell_type": "markdown",
   "metadata": {},
   "source": [
    "***Cell接口其实是承担了两个责任的。在Field看过来，它只认识Cell，它认为Cell是存放在其中的数据。而对于View来说，它看到的是Cell所具有的draw方法，从这个角度来说Cell表示了表现。大型项目的时候产品细分和构架做的很多工作就是数据与表现尽量细分。比如有一个Cell抽象类表示可以放进Field的东西，另一个Drawable接口表示可以被Vier画出来的东西***"
   ]
  }
 ],
 "metadata": {
  "kernelspec": {
   "display_name": "Python 3",
   "language": "python",
   "name": "python3"
  },
  "language_info": {
   "codemirror_mode": {
    "name": "ipython",
    "version": 3
   },
   "file_extension": ".py",
   "mimetype": "text/x-python",
   "name": "python",
   "nbconvert_exporter": "python",
   "pygments_lexer": "ipython3",
   "version": "3.6.5"
  },
  "toc": {
   "base_numbering": 1,
   "nav_menu": {},
   "number_sections": true,
   "sideBar": true,
   "skip_h1_title": false,
   "title_cell": "Table of Contents",
   "title_sidebar": "Contents",
   "toc_cell": false,
   "toc_position": {},
   "toc_section_display": true,
   "toc_window_display": false
  }
 },
 "nbformat": 4,
 "nbformat_minor": 2
}
